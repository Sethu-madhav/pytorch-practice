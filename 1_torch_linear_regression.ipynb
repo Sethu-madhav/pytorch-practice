{
 "cells": [
  {
   "cell_type": "code",
   "execution_count": 79,
   "metadata": {},
   "outputs": [],
   "source": [
    "import torch\n",
    "import torch.nn as nn\n",
    "import matplotlib.pyplot as plt\n",
    "import torch.optim as optim"
   ]
  },
  {
   "cell_type": "code",
   "execution_count": 80,
   "metadata": {},
   "outputs": [],
   "source": [
    "accelerator = 'cuda' if torch.cuda.is_available() else 'cpu'"
   ]
  },
  {
   "cell_type": "markdown",
   "metadata": {},
   "source": [
    "1. Create a straight line dataset"
   ]
  },
  {
   "cell_type": "code",
   "execution_count": 81,
   "metadata": {},
   "outputs": [
    {
     "name": "stdout",
     "output_type": "stream",
     "text": [
      "Number of X samples: 100\n",
      "Number of y samples: 100\n",
      "First 10 X & y samples:\n",
      "X: tensor([[0.0000],\n",
      "        [0.0100],\n",
      "        [0.0200],\n",
      "        [0.0300],\n",
      "        [0.0400],\n",
      "        [0.0500],\n",
      "        [0.0600],\n",
      "        [0.0700],\n",
      "        [0.0800],\n",
      "        [0.0900]])\n",
      "y: tensor([[0.9000],\n",
      "        [0.9030],\n",
      "        [0.9060],\n",
      "        [0.9090],\n",
      "        [0.9120],\n",
      "        [0.9150],\n",
      "        [0.9180],\n",
      "        [0.9210],\n",
      "        [0.9240],\n",
      "        [0.9270]])\n"
     ]
    }
   ],
   "source": [
    "weight = 0.3\n",
    "bias = 0.9\n",
    "X = torch.arange(0, 1, 0.01).unsqueeze(dim=1)\n",
    "y = weight * X + bias\n",
    "split_var = int(0.8 * len(X))\n",
    "X_train, X_test = X[:split_var], X[split_var:]\n",
    "y_train, y_test = y[:split_var], y[split_var:]\n",
    "print(f\"Number of X samples: {len(X)}\")\n",
    "print(f\"Number of y samples: {len(y)}\")\n",
    "print(f\"First 10 X & y samples:\\nX: {X[:10]}\\ny: {y[:10]}\")"
   ]
  },
  {
   "cell_type": "code",
   "execution_count": 82,
   "metadata": {},
   "outputs": [
    {
     "data": {
      "image/png": "[encoded data removed]",
      "text/plain": [
       "<Figure size 800x600 with 1 Axes>"
      ]
     },
     "metadata": {},
     "output_type": "display_data"
    }
   ],
   "source": [
    "# Plot the training and testing data \n",
    "def plot_predictions(train_data = X_train,\n",
    "                 train_labels = y_train,\n",
    "                 test_data = X_test,\n",
    "                 test_labels = y_test,\n",
    "                 predictions = None):\n",
    "  plt.figure(figsize = (8, 6))\n",
    "  plt.scatter(train_data,train_labels,c = 'b',s = 4,label = \"Training data\", alpha=0.7)\n",
    "  plt.scatter(test_data,test_labels,c = 'g',s = 4,label = \"Test data\", alpha=0.7)\n",
    "\n",
    "  if predictions is not None:\n",
    "    plt.scatter(test_data,predictions,c = 'r',s = 4,label = \"Predictions\")\n",
    "  plt.legend(prop = {\"size\" : 14})\n",
    "plot_predictions()"
   ]
  },
  {
   "cell_type": "markdown",
   "metadata": {},
   "source": [
    "2. Build a PyTorch model by subclassing nn.Module"
   ]
  },
  {
   "cell_type": "code",
   "execution_count": 87,
   "metadata": {},
   "outputs": [
    {
     "data": {
      "text/plain": [
       "(linear_reg_model(\n",
       "   (linear_layer): Linear(in_features=1, out_features=1, bias=True)\n",
       " ),\n",
       " OrderedDict([('linear_layer.weight', tensor([[0.7645]])),\n",
       "              ('linear_layer.bias', tensor([0.8300]))]))"
      ]
     },
     "execution_count": 87,
     "metadata": {},
     "output_type": "execute_result"
    }
   ],
   "source": [
    "class linear_reg_model(nn.Module):\n",
    "    def __init__(self):\n",
    "        super().__init__()\n",
    "        self.linear_layer = nn.Linear(in_features = 1, out_features = 1)\n",
    "\n",
    "    def forward(self, x:torch.Tensor) -> torch.Tensor:\n",
    "        return self.linear_layer(x)\n",
    "    \n",
    "torch.manual_seed(42)\n",
    "model_1 = linear_reg_model()\n",
    "model_1, model_1.state_dict()"
   ]
  },
  {
   "cell_type": "code",
   "execution_count": 88,
   "metadata": {},
   "outputs": [
    {
     "data": {
      "text/plain": [
       "device(type='cpu')"
      ]
     },
     "execution_count": 88,
     "metadata": {},
     "output_type": "execute_result"
    }
   ],
   "source": [
    "next(model_1.parameters()).device"
   ]
  },
  {
   "cell_type": "code",
   "execution_count": 89,
   "metadata": {},
   "outputs": [
    {
     "data": {
      "text/plain": [
       "[Parameter containing:\n",
       " tensor([[0.7645]], device='cuda:0', requires_grad=True),\n",
       " Parameter containing:\n",
       " tensor([0.8300], device='cuda:0', requires_grad=True)]"
      ]
     },
     "execution_count": 89,
     "metadata": {},
     "output_type": "execute_result"
    }
   ],
   "source": [
    "# Instantiate the model and put it to the target device\n",
    "model_1.to(device=accelerator)\n",
    "list(model_1.parameters())"
   ]
  },
  {
   "cell_type": "markdown",
   "metadata": {},
   "source": [
    "3. Create a loss function and optimizer using nn.L1Loss() and torch.optim.SGD(params, lr)"
   ]
  },
  {
   "cell_type": "code",
   "execution_count": 90,
   "metadata": {},
   "outputs": [],
   "source": [
    "loss_fn = nn.L1Loss()\n",
    "optimizer = optim.SGD(params= model_1.parameters(), lr=0.01)"
   ]
  },
  {
   "cell_type": "code",
   "execution_count": 91,
   "metadata": {},
   "outputs": [
    {
     "name": "stdout",
     "output_type": "stream",
     "text": [
      "Epoch : 0 | Train loss : 0.128 | Test loss : 0.610\n",
      "Epoch : 20 | Train loss : 0.082 | Test loss : 0.492\n",
      "Epoch : 40 | Train loss : 0.072 | Test loss : 0.448\n",
      "Epoch : 60 | Train loss : 0.065 | Test loss : 0.427\n",
      "Epoch : 80 | Train loss : 0.058 | Test loss : 0.410\n",
      "Epoch : 100 | Train loss : 0.051 | Test loss : 0.394\n",
      "Epoch : 120 | Train loss : 0.045 | Test loss : 0.378\n",
      "Epoch : 140 | Train loss : 0.038 | Test loss : 0.362\n",
      "Epoch : 160 | Train loss : 0.031 | Test loss : 0.346\n",
      "Epoch : 180 | Train loss : 0.024 | Test loss : 0.329\n",
      "Epoch : 200 | Train loss : 0.017 | Test loss : 0.313\n",
      "Epoch : 220 | Train loss : 0.010 | Test loss : 0.297\n",
      "Epoch : 240 | Train loss : 0.003 | Test loss : 0.281\n",
      "Epoch : 260 | Train loss : 0.008 | Test loss : 0.281\n",
      "Epoch : 280 | Train loss : 0.008 | Test loss : 0.281\n"
     ]
    }
   ],
   "source": [
    "# move data to device\n",
    "torch.manual_seed(42)\n",
    "X_train = X_train.to(accelerator)\n",
    "X_test = X_test.to(accelerator)\n",
    "y_train = y_train.to(accelerator)\n",
    "y_test = X_test.to(accelerator)\n",
    "\n",
    "epochs = 300\n",
    "for epoch in range(epochs):\n",
    "    model_1.train()\n",
    "    ### --- Training --- \n",
    "    # 1. forward\n",
    "    y_preds = model_1(X_train)\n",
    "\n",
    "    # 2. calculate loss\n",
    "    loss = loss_fn(y_preds, y_train)\n",
    "\n",
    "    # 3. zero grad optimizer\n",
    "    optimizer.zero_grad()\n",
    "\n",
    "    # 4. backward pass of loss\n",
    "    loss.backward()\n",
    "\n",
    "    # 5. optimizer step to update parameters\n",
    "    optimizer.step()\n",
    "\n",
    "    ### testing\n",
    "    if epoch % 20 == 0:\n",
    "        model_1.eval()\n",
    "        with torch.inference_mode():\n",
    "            # 1. forward\n",
    "            test_preds = model_1(X_test)\n",
    "\n",
    "            # 2. calculate loss\n",
    "            test_loss = loss_fn(test_preds, y_test)\n",
    "\n",
    "            # print results\n",
    "            print(f\"Epoch : {epoch} | Train loss : {loss:.3f} | Test loss : {test_loss:.3f}\")\n",
    "\n",
    "\n",
    "     "
   ]
  },
  {
   "cell_type": "markdown",
   "metadata": {},
   "source": [
    "4. Make predictions with the trained model on the test data"
   ]
  },
  {
   "cell_type": "code",
   "execution_count": null,
   "metadata": {},
   "outputs": [],
   "source": [
    "# make predictions with the model\n",
    "model_1.eval()\n",
    "with torch.inference_mode():\n",
    "    test_preds = model_1(X_test)\n",
    "test_preds"
   ]
  },
  {
   "cell_type": "code",
   "execution_count": 93,
   "metadata": {},
   "outputs": [
    {
     "data": {
      "image/png": "[encoded data removed]",
      "text/plain": [
       "<Figure size 800x600 with 1 Axes>"
      ]
     },
     "metadata": {},
     "output_type": "display_data"
    }
   ],
   "source": [
    "plot_predictions(predictions= test_preds.cpu())"
   ]
  },
  {
   "cell_type": "markdown",
   "metadata": {},
   "source": [
    "5. save trained model's state_dict() to file."
   ]
  },
  {
   "cell_type": "code",
   "execution_count": 94,
   "metadata": {},
   "outputs": [
    {
     "name": "stdout",
     "output_type": "stream",
     "text": [
      "saving model to models\n"
     ]
    }
   ],
   "source": [
    "from pathlib import Path\n",
    "\n",
    "# 1. create path dir\n",
    "MODEL_PATH = Path(\"models\")\n",
    "MODEL_PATH.mkdir(parents=True, exist_ok=True)\n",
    "# 2. create model save path\n",
    "MODEL_NAME = \"01_linear_reg\"\n",
    "MODEL_SAVE_PATH = MODEL_PATH / MODEL_NAME\n",
    "# 3. save the model state dict\n",
    "print(f\"saving model to {MODEL_PATH}\")\n",
    "torch.save(obj=model_1.state_dict(), f=MODEL_SAVE_PATH)"
   ]
  },
  {
   "cell_type": "code",
   "execution_count": 97,
   "metadata": {},
   "outputs": [
    {
     "data": {
      "text/plain": [
       "linear_reg_model(\n",
       "  (linear_layer): Linear(in_features=1, out_features=1, bias=True)\n",
       ")"
      ]
     },
     "execution_count": 97,
     "metadata": {},
     "output_type": "execute_result"
    }
   ],
   "source": [
    "# load the saved model \n",
    "# 1. create model class instance\n",
    "loaded_model1 = linear_reg_model()\n",
    "\n",
    "# load state_dict using the instance\n",
    "loaded_model1.load_state_dict(torch.load(MODEL_SAVE_PATH, weights_only=True))\n",
    "loaded_model1.to(accelerator)"
   ]
  },
  {
   "cell_type": "code",
   "execution_count": 100,
   "metadata": {},
   "outputs": [
    {
     "data": {
      "text/plain": [
       "tensor([[True],\n",
       "        [True],\n",
       "        [True],\n",
       "        [True],\n",
       "        [True],\n",
       "        [True],\n",
       "        [True],\n",
       "        [True],\n",
       "        [True],\n",
       "        [True],\n",
       "        [True],\n",
       "        [True],\n",
       "        [True],\n",
       "        [True],\n",
       "        [True],\n",
       "        [True],\n",
       "        [True],\n",
       "        [True],\n",
       "        [True],\n",
       "        [True]], device='cuda:0')"
      ]
     },
     "execution_count": 100,
     "metadata": {},
     "output_type": "execute_result"
    }
   ],
   "source": [
    "# make predictions using the loaded model\n",
    "loaded_model1.eval()\n",
    "with torch.inference_mode():\n",
    "    load_preds = loaded_model1(X_test)\n",
    "load_preds == test_preds"
   ]
  },
  {
   "cell_type": "code",
   "execution_count": 99,
   "metadata": {},
   "outputs": [
    {
     "data": {
      "text/plain": [
       "OrderedDict([('linear_layer.weight', tensor([[0.3028]], device='cuda:0')),\n",
       "             ('linear_layer.bias', tensor([0.8910], device='cuda:0'))])"
      ]
     },
     "execution_count": 99,
     "metadata": {},
     "output_type": "execute_result"
    }
   ],
   "source": [
    "loaded_model1.state_dict()"
   ]
  },
  {
   "cell_type": "code",
   "execution_count": null,
   "metadata": {},
   "outputs": [],
   "source": []
  }
 ],
 "metadata": {
  "kernelspec": {
   "display_name": "pytest",
   "language": "python",
   "name": "python3"
  },
  "language_info": {
   "codemirror_mode": {
    "name": "ipython",
    "version": 3
   },
   "file_extension": ".py",
   "mimetype": "text/x-python",
   "name": "python",
   "nbconvert_exporter": "python",
   "pygments_lexer": "ipython3",
   "version": "3.12.9"
  }
 },
 "nbformat": 4,
 "nbformat_minor": 2
}
